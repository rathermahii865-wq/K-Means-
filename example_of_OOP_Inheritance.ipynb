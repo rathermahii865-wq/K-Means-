{
  "nbformat": 4,
  "nbformat_minor": 0,
  "metadata": {
    "colab": {
      "provenance": [],
      "authorship_tag": "ABX9TyODpkaFHLFCj8tcp8aXtJCz",
      "include_colab_link": true
    },
    "kernelspec": {
      "name": "python3",
      "display_name": "Python 3"
    },
    "language_info": {
      "name": "python"
    }
  },
  "cells": [
    {
      "cell_type": "markdown",
      "metadata": {
        "id": "view-in-github",
        "colab_type": "text"
      },
      "source": [
        "<a href=\"https://colab.research.google.com/github/rathermahii865-wq/K-Means-/blob/main/example_of_OOP_Inheritance.ipynb\" target=\"_parent\"><img src=\"https://colab.research.google.com/assets/colab-badge.svg\" alt=\"Open In Colab\"/></a>"
      ]
    },
    {
      "cell_type": "code",
      "execution_count": null,
      "metadata": {
        "id": "dp24SE-5dLCO"
      },
      "outputs": [],
      "source": [
        "Inheritance in OOP ,provide a simple example in python"
      ]
    },
    {
      "cell_type": "markdown",
      "metadata": {
        "id": "cdb6f850"
      },
      "source": [
        "Here is a simple example of inheritance in Python:"
      ]
    },
    {
      "cell_type": "code",
      "metadata": {
        "colab": {
          "base_uri": "https://localhost:8080/"
        },
        "id": "7b2c9b96",
        "outputId": "6db9e0be-5aab-4b5a-9ef3-a6d3f14fc871"
      },
      "source": [
        "class Animal:\n",
        "  def __init__(self, name):\n",
        "    self.name = name\n",
        "\n",
        "  def speak(self):\n",
        "    pass  # Placeholder for speaking behavior\n",
        "\n",
        "class Dog(Animal):  # Dog inherits from Animal\n",
        "  def speak(self):\n",
        "    return f\"{self.name} says Woof!\"\n",
        "\n",
        "class Cat(Animal):  # Cat inherits from Animal\n",
        "  def speak(self):\n",
        "    return f\"{self.name} says Meow!\"\n",
        "\n",
        "# Create instances of the subclasses\n",
        "dog = Dog(\"Buddy\")\n",
        "cat = Cat(\"Whiskers\")\n",
        "\n",
        "# Call the speak method on the instances\n",
        "print(dog.speak())\n",
        "print(cat.speak())"
      ],
      "execution_count": null,
      "outputs": [
        {
          "output_type": "stream",
          "name": "stdout",
          "text": [
            "Buddy says Woof!\n",
            "Whiskers says Meow!\n"
          ]
        }
      ]
    }
  ]
}